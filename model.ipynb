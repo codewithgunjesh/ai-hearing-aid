{
 "cells": [
  {
   "cell_type": "code",
   "execution_count": null,
   "id": "b1028bd9-e3d7-4d09-ba61-683637d47c63",
   "metadata": {},
   "outputs": [],
   "source": [
    "import numpy as np\n",
    "import tensorflow as tf\n",
    "from tensorflow.keras.models import Sequential\n",
    "from tensorflow.keras.layers import Conv1D, BatchNormalization, Activation\n",
    "from tensorflow.keras.optimizers import Adam\n",
    "\n",
    "# Example dummy data (replace with real training data)\n",
    "X = np.random.rand(100, 1024, 1)  # 100 samples, 1024-frame size\n",
    "Y = np.random.rand(100, 1024, 1)\n",
    "\n",
    "# Define the FCNN model\n",
    "model = Sequential([\n",
    "    Conv1D(64, kernel_size=9, padding='same', input_shape=(1024, 1)),\n",
    "    BatchNormalization(),\n",
    "    Activation('relu'),\n",
    "    Conv1D(64, kernel_size=9, padding='same'),\n",
    "    BatchNormalization(),\n",
    "    Activation('relu'),\n",
    "    Conv1D(1, kernel_size=9, padding='same')\n",
    "])\n",
    "\n",
    "model.compile(optimizer=Adam(learning_rate=0.001), loss='mean_squared_error')\n",
    "\n",
    "# Train the model\n",
    "model.fit(X, Y, epochs=5, batch_size=16)\n",
    "\n",
    "# Save the model\n",
    "model.save('fcnn_model.keras')\n",
    "print(\"Model trained and saved as fcnn_model.keras\")"
   ]
  },
  {
   "cell_type": "code",
   "execution_count": null,
   "id": "2f7a7100-45e2-46e4-b0b0-58894a250356",
   "metadata": {},
   "outputs": [],
   "source": []
  }
 ],
 "metadata": {
  "kernelspec": {
   "display_name": "Python 3 (ipykernel)",
   "language": "python",
   "name": "python3"
  },
  "language_info": {
   "codemirror_mode": {
    "name": "ipython",
    "version": 3
   },
   "file_extension": ".py",
   "mimetype": "text/x-python",
   "name": "python",
   "nbconvert_exporter": "python",
   "pygments_lexer": "ipython3",
   "version": "3.9.12"
  }
 },
 "nbformat": 4,
 "nbformat_minor": 5
}
