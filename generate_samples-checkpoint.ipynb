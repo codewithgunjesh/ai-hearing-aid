{
 "cells": [
  {
   "cell_type": "code",
   "execution_count": 6,
   "id": "519024d6-b4fa-4db0-a318-20abf1bf025e",
   "metadata": {},
   "outputs": [
    {
     "name": "stdout",
     "output_type": "stream",
     "text": [
      "Generated: C:\\Users\\Hp\\Downloads\\clean.wav and C:\\Users\\Hp\\Downloads\\noise.wav\n"
     ]
    }
   ],
   "source": [
    "import librosa\n",
    "import soundfile as sf\n",
    "import numpy as np\n",
    "import os\n",
    "\n",
    "os.makedirs('data', exist_ok=True)\n",
    "\n",
    "# Load a real speech file (you can replace this with your own .wav file)\n",
    "clean, sr = librosa.load(librosa.example('trumpet'), sr=22050)\n",
    "clean = clean[:5 * sr]  # 5 seconds\n",
    "sf.write(r'C:\\Users\\Hp\\Downloads\\clean.wav', clean, sr)\n",
    "\n",
    "# Add real-world background noise (e.g., traffic)\n",
    "noise = 0.3 * np.random.randn(len(clean))\n",
    "noisy = clean + noise\n",
    "sf.write(r'C:\\Users\\Hp\\Downloads\\noise.wav', noisy, sr)\n",
    "sf.write(r'C:\\Users\\Hp\\Downloads\\clean.wav', clean, sr)\n",
    "print(r'Generated: C:\\Users\\Hp\\Downloads\\clean.wav and C:\\Users\\Hp\\Downloads\\noise.wav')"
   ]
  }
 ],
 "metadata": {
  "kernelspec": {
   "display_name": "Python 3 (ipykernel)",
   "language": "python",
   "name": "python3"
  },
  "language_info": {
   "codemirror_mode": {
    "name": "ipython",
    "version": 3
   },
   "file_extension": ".py",
   "mimetype": "text/x-python",
   "name": "python",
   "nbconvert_exporter": "python",
   "pygments_lexer": "ipython3",
   "version": "3.9.12"
  }
 },
 "nbformat": 4,
 "nbformat_minor": 5
}
