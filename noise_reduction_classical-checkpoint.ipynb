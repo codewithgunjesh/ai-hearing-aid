{
 "cells": [
  {
   "cell_type": "code",
   "execution_count": null,
   "id": "8b1b1cde-e44a-4ccb-9d98-de2f44f9a301",
   "metadata": {},
   "outputs": [],
   "source": [
    "import noisereduce as nr\n",
    "import soundfile as sf\n",
    "import matplotlib.pyplot as plt\n",
    "import librosa\n",
    "import librosa.display\n",
    "import numpy as np\n",
    "import os\n",
    "\n",
    "# Load your noisy audio file\n",
    "file_path = r\"C:\\Users\\Hp\\Downloads\\noise.wav\"\n",
    "if not os.path.exists(file_path):\n",
    "    raise FileNotFoundError(f\"Audio file not found at: {file_path}\")\n",
    "\n",
    "noisy, sr = librosa.load(file_path, sr=None)\n",
    "\n",
    "# Optional: Use a custom noise profile (e.g., first 0.5 seconds)\n",
    "noise_clip = noisy[0:int(0.5 * sr)]\n",
    "reduced = nr.reduce_noise(y=noisy, y_noise=noise_clip, sr=sr)\n",
    "\n",
    "# Save the denoised audio\n",
    "output_path = r\"C:\\Users\\Hp\\Downloads\\denoised_custom.wav\"\n",
    "sf.write(output_path, reduced, sr)\n",
    "print(f\"Denoised audio saved to: {output_path}\")\n",
    "\n",
    "# Plot waveform comparison\n",
    "plt.figure(figsize=(12, 4))\n",
    "librosa.display.waveshow(reduced, sr=sr, alpha=0.8, label='Denoised')\n",
    "librosa.display.waveshow(noisy, sr=sr, alpha=0.4, label='Original')\n",
    "plt.title(\"Classical Denoising Result\")\n",
    "plt.legend()\n",
    "plt.tight_layout()\n",
    "plt.show()\n",
    "\n",
    "# Plot spectrograms\n",
    "def plot_spectrogram(signal, sr, title):\n",
    "    D = librosa.amplitude_to_db(np.abs(librosa.stft(signal)), ref=np.max)\n",
    "    plt.figure(figsize=(10, 4))\n",
    "    librosa.display.specshow(D, sr=sr, x_axis='time', y_axis='log')\n",
    "    plt.colorbar(format='%+2.0f dB')\n",
    "    plt.title(title)\n",
    "    plt.tight_layout()\n",
    "    plt.show()\n",
    "\n",
    "plot_spectrogram(noisy, sr, \"Noisy Spectrogram\")\n",
    "plot_spectrogram(reduced, sr, \"Denoised Spectrogram\")\n",
    "\n",
    "# Estimate SNR improvement\n",
    "def compute_snr(clean, noisy):\n",
    "    noise = noisy - clean\n",
    "    return 10 * np.log10(np.sum(clean**2) / np.sum(noise**2))\n",
    "\n",
    "snr_estimate = compute_snr(reduced, noisy)\n",
    "print(f\"Estimated SNR after denoising: {snr_estimate:.2f} dB\")"
   ]
  },
  {
   "cell_type": "code",
   "execution_count": null,
   "id": "3bb9d24d-db06-44e4-82e5-12347ee23c2f",
   "metadata": {},
   "outputs": [],
   "source": []
  }
 ],
 "metadata": {
  "kernelspec": {
   "display_name": "Python 3 (ipykernel)",
   "language": "python",
   "name": "python3"
  },
  "language_info": {
   "codemirror_mode": {
    "name": "ipython",
    "version": 3
   },
   "file_extension": ".py",
   "mimetype": "text/x-python",
   "name": "python",
   "nbconvert_exporter": "python",
   "pygments_lexer": "ipython3",
   "version": "3.9.12"
  }
 },
 "nbformat": 4,
 "nbformat_minor": 5
}
