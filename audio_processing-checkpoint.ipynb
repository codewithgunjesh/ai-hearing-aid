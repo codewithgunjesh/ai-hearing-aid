{
 "cells": [
  {
   "cell_type": "code",
   "execution_count": null,
   "id": "fd6a5983-df26-429c-a29c-f23a06cf1852",
   "metadata": {},
   "outputs": [],
   "source": [
    "import matplotlib.pyplot as plt\n",
    "import librosa\n",
    "import librosa.display\n",
    "import numpy as np\n",
    "\n",
    "#  Load audio files\n",
    "noisy, sr = librosa.load(r'C:\\Users\\Hp\\Downloads\\noise.wav', sr=22050)\n",
    "clean, _ = librosa.load(r'C:\\Users\\Hp\\Downloads\\clean.wav', sr=22050)\n",
    "\n",
    "#  Plot waveforms\n",
    "plt.figure(figsize=(12, 4))\n",
    "librosa.display.waveshow(noisy, sr=sr, alpha=0.5, label='Noisy')\n",
    "librosa.display.waveshow(clean, sr=sr, alpha=0.5, label='Clean')\n",
    "plt.title(\"Noisy vs Clean Audio - Waveform\")\n",
    "plt.legend()\n",
    "plt.tight_layout()\n",
    "plt.show()\n",
    "\n",
    "#  Function to plot spectrogram\n",
    "def show_spectrogram(signal, sr, title):\n",
    "    S = librosa.amplitude_to_db(np.abs(librosa.stft(signal)), ref=np.max)\n",
    "    plt.figure(figsize=(10, 4))\n",
    "    librosa.display.specshow(S, sr=sr, x_axis='time', y_axis='log')\n",
    "    plt.colorbar(format='%+2.0f dB')\n",
    "    plt.title(title)\n",
    "    plt.tight_layout()\n",
    "    plt.show()\n",
    "\n",
    "#  Plot spectrograms\n",
    "show_spectrogram(noisy, sr, \"Noisy Audio - Spectrogram\")\n",
    "show_spectrogram(clean, sr, \"Clean Audio - Spectrogram\")\n"
   ]
  },
  {
   "cell_type": "code",
   "execution_count": null,
   "id": "23c7c153-7ef8-4406-859c-1c1d22114f7c",
   "metadata": {},
   "outputs": [],
   "source": []
  }
 ],
 "metadata": {
  "kernelspec": {
   "display_name": "Python 3 (ipykernel)",
   "language": "python",
   "name": "python3"
  },
  "language_info": {
   "codemirror_mode": {
    "name": "ipython",
    "version": 3
   },
   "file_extension": ".py",
   "mimetype": "text/x-python",
   "name": "python",
   "nbconvert_exporter": "python",
   "pygments_lexer": "ipython3",
   "version": "3.9.12"
  }
 },
 "nbformat": 4,
 "nbformat_minor": 5
}
