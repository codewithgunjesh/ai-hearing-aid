{
 "cells": [
  {
   "cell_type": "code",
   "execution_count": null,
   "id": "31223bf6-10c4-4eda-92f1-d2f9b8a48c96",
   "metadata": {},
   "outputs": [],
   "source": [
    "import numpy as np\n",
    "import os\n",
    "from tensorflow.keras.models import Sequential\n",
    "from tensorflow.keras.layers import Conv1D, InputLayer\n",
    "from tensorflow.keras.optimizers import Adam\n",
    "from sklearn.model_selection import train_test_split\n",
    "import soundfile as sf\n",
    "import librosa\n",
    "\n",
    "# Load noisy and clean audio\n",
    "noisy_path = r\"C:\\Users\\Hp\\Downloads\\noise.wav\"\n",
    "clean_path = r\"C:\\Users\\Hp\\Downloads\\clean.wav\"  # <-- Make sure this exists\n",
    "\n",
    "noisy, sr = librosa.load(noisy_path, sr=None)\n",
    "clean, _ = librosa.load(clean_path, sr=sr)\n",
    "\n",
    "# Frame parameters\n",
    "FRAME_SIZE = 1024\n",
    "\n",
    "def frame_audio(audio):\n",
    "    return np.array([audio[i:i+FRAME_SIZE] for i in range(0, len(audio)-FRAME_SIZE, FRAME_SIZE)])\n",
    "\n",
    "# Frame and reshape\n",
    "X = frame_audio(noisy)\n",
    "Y = frame_audio(clean)\n",
    "X = X[..., np.newaxis]\n",
    "Y = Y[..., np.newaxis]\n",
    "\n",
    "# Train-validation split\n",
    "X_train, X_val, Y_train, Y_val = train_test_split(X, Y, test_size=0.2, random_state=42)\n",
    "\n",
    "# Define FCNN model\n",
    "model = Sequential([\n",
    "    InputLayer(input_shape=(FRAME_SIZE, 1)),\n",
    "    Conv1D(64, kernel_size=1, activation='relu', padding='same'),\n",
    "    Conv1D(64, kernel_size=1, activation='relu', padding='same'),\n",
    "    Conv1D(1, kernel_size=1, activation='linear', padding='same')\n",
    "])\n",
    "\n",
    "# Compile and train\n",
    "model.compile(optimizer=Adam(1e-3), loss='mse')\n",
    "model.fit(X_train, Y_train, validation_data=(X_val, Y_val), epochs=10, batch_size=32)\n",
    "\n",
    "# Save model\n",
    "os.makedirs(\"models\", exist_ok=True)\n",
    "model.save(\"models/fcnn_model.keras\")\n",
    "print(\"Model trained and saved to models/fcnn_model.keras\")"
   ]
  },
  {
   "cell_type": "code",
   "execution_count": null,
   "id": "f07339d6-e860-4033-af6c-ac9d345e8c93",
   "metadata": {},
   "outputs": [],
   "source": []
  }
 ],
 "metadata": {
  "kernelspec": {
   "display_name": "Python 3 (ipykernel)",
   "language": "python",
   "name": "python3"
  },
  "language_info": {
   "codemirror_mode": {
    "name": "ipython",
    "version": 3
   },
   "file_extension": ".py",
   "mimetype": "text/x-python",
   "name": "python",
   "nbconvert_exporter": "python",
   "pygments_lexer": "ipython3",
   "version": "3.9.12"
  }
 },
 "nbformat": 4,
 "nbformat_minor": 5
}
