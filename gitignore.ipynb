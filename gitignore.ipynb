{
 "cells": [
  {
   "cell_type": "code",
   "execution_count": null,
   "id": "6a1e6e02-698d-478a-b432-657b46165f4f",
   "metadata": {},
   "outputs": [],
   "source": [
    "\n",
    "__pycache__/\n",
    "*.pyc\n",
    ".ipynb_checkpoints/\n",
    "*.h5\n",
    "*.keras\n",
    "models/\n",
    "*.wav\n",
    "*.mp3\n",
    "*.csv\n",
    "*.npy\n",
    ".DS_Store\n",
    ".vscode/\n",
    ".env\n",
    "*.egg-info/\n"
   ]
  }
 ],
 "metadata": {
  "kernelspec": {
   "display_name": "Python 3 (ipykernel)",
   "language": "python",
   "name": "python3"
  },
  "language_info": {
   "codemirror_mode": {
    "name": "ipython",
    "version": 3
   },
   "file_extension": ".py",
   "mimetype": "text/x-python",
   "name": "python",
   "nbconvert_exporter": "python",
   "pygments_lexer": "ipython3",
   "version": "3.9.12"
  }
 },
 "nbformat": 4,
 "nbformat_minor": 5
}
