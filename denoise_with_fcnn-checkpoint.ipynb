{
 "cells": [
  {
   "cell_type": "code",
   "execution_count": null,
   "id": "a98f105f-264e-433b-99b5-8fd2b19c8532",
   "metadata": {},
   "outputs": [],
   "source": [
    "import numpy as np\n",
    "import librosa\n",
    "import librosa.display\n",
    "import matplotlib.pyplot as plt\n",
    "import soundfile as sf\n",
    "from tensorflow.keras.models import load_model\n",
    "#  Load noisy audio\n",
    "noisy, sr = librosa.load(r'C:\\Users\\Hp\\Downloads\\noise.wav', sr=22050)\n",
    "#  Frame audio into blocks\n",
    "def frame_audio(audio, frame_size=1024):\n",
    "    num_frames = len(audio) // frame_size\n",
    "    return np.array([audio[i*frame_size:(i+1)*frame_size] for i in range(num_frames)])\n",
    "#  Load trained model\n",
    "model = load_model('models/fcnn_model.keras', compile=False)\n",
    "#  Predict denoised output\n",
    "X_test = frame_audio(noisy)\n",
    "X_test = X_test[..., np.newaxis]\n",
    "predicted = model.predict(X_test, verbose=0)\n",
    "den = predicted.squeeze().flatten()\n",
    "den = den[:len(noisy)]  # Trim to original length\n",
    "#  Save denoised output\n",
    "sf.write(r\"C:\\Users\\Hp\\Downloads\\ai_enhanced_output.wav\", den, sr)\n",
    "print(\"Denoised audio saved.\")\n",
    "#  Plot waveform comparison\n",
    "plt.figure(figsize=(12, 4))\n",
    "librosa.display.waveshow(den, sr=sr, alpha=0.8, label='Denoised')\n",
    "librosa.display.waveshow(noisy, sr=sr, alpha=0.4, label='Noisy')\n",
    "plt.title('Noisy vs Denoised Waveform')\n",
    "plt.legend()\n",
    "plt.tight_layout()\n",
    "plt.show()\n",
    "#  Function to show spectrogram\n",
    "def show_spectrogram(signal, sr, title):\n",
    "    S = librosa.amplitude_to_db(np.abs(librosa.stft(signal)), ref=np.max)\n",
    "    plt.figure(figsize=(10, 4))\n",
    "    librosa.display.specshow(S, sr=sr, x_axis='time', y_axis='log')\n",
    "    plt.colorbar(format='%+2.0f dB')\n",
    "    plt.title(title)\n",
    "    plt.tight_layout()\n",
    "    plt.show()\n",
    "#  Plot spectrograms\n",
    "show_spectrogram(noisy, sr, \"Noisy Spectrogram\")\n",
    "show_spectrogram(den, sr, \"Denoised Spectrogram\")"
   ]
  }
 ],
 "metadata": {
  "kernelspec": {
   "display_name": "Python 3 (ipykernel)",
   "language": "python",
   "name": "python3"
  },
  "language_info": {
   "codemirror_mode": {
    "name": "ipython",
    "version": 3
   },
   "file_extension": ".py",
   "mimetype": "text/x-python",
   "name": "python",
   "nbconvert_exporter": "python",
   "pygments_lexer": "ipython3",
   "version": "3.9.12"
  }
 },
 "nbformat": 4,
 "nbformat_minor": 5
}
